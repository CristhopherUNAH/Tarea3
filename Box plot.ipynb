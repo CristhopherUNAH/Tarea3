{
 "cells": [
  {
   "cell_type": "markdown",
   "id": "900ea98a-e621-4fdc-9e72-5759a87701c3",
   "metadata": {},
   "source": [
    "# UNAH\n",
    "## Facultad de Ingenieria\n",
    "## Carrera de Ingenieria en sistemas\n",
    "### Clase: Inteligencia Artificial\n",
    "\n",
    "*Prueba*"
   ]
  },
  {
   "cell_type": "code",
   "execution_count": 7,
   "id": "d89d7223-d7bc-4a2f-b8e2-7777b3abbbc9",
   "metadata": {},
   "outputs": [],
   "source": [
    "import pandas as pd\n",
    "import numpy as np\n",
    "import matplotlib.pyplot as plt"
   ]
  },
  {
   "cell_type": "markdown",
   "id": "a6101627-a1bb-41ae-9a9c-6597e20ed26b",
   "metadata": {},
   "source": [
    "Segun el siguiente Dataset:"
   ]
  },
  {
   "cell_type": "code",
   "execution_count": 45,
   "id": "129c774e-4da0-4b46-918a-19e51df03fe3",
   "metadata": {},
   "outputs": [],
   "source": [
    "pd_vector = pd.DataFrame( { \"num\" : range(1,101) } )"
   ]
  },
  {
   "cell_type": "code",
   "execution_count": 46,
   "id": "48d3c5b7-be61-4c2f-ada7-d9766b5d82db",
   "metadata": {
    "scrolled": true
   },
   "outputs": [
    {
     "data": {
      "text/html": [
       "<div>\n",
       "<style scoped>\n",
       "    .dataframe tbody tr th:only-of-type {\n",
       "        vertical-align: middle;\n",
       "    }\n",
       "\n",
       "    .dataframe tbody tr th {\n",
       "        vertical-align: top;\n",
       "    }\n",
       "\n",
       "    .dataframe thead th {\n",
       "        text-align: right;\n",
       "    }\n",
       "</style>\n",
       "<table border=\"1\" class=\"dataframe\">\n",
       "  <thead>\n",
       "    <tr style=\"text-align: right;\">\n",
       "      <th></th>\n",
       "      <th>num</th>\n",
       "    </tr>\n",
       "  </thead>\n",
       "  <tbody>\n",
       "    <tr>\n",
       "      <th>0</th>\n",
       "      <td>1</td>\n",
       "    </tr>\n",
       "    <tr>\n",
       "      <th>1</th>\n",
       "      <td>2</td>\n",
       "    </tr>\n",
       "    <tr>\n",
       "      <th>2</th>\n",
       "      <td>3</td>\n",
       "    </tr>\n",
       "    <tr>\n",
       "      <th>3</th>\n",
       "      <td>4</td>\n",
       "    </tr>\n",
       "    <tr>\n",
       "      <th>4</th>\n",
       "      <td>5</td>\n",
       "    </tr>\n",
       "    <tr>\n",
       "      <th>...</th>\n",
       "      <td>...</td>\n",
       "    </tr>\n",
       "    <tr>\n",
       "      <th>95</th>\n",
       "      <td>96</td>\n",
       "    </tr>\n",
       "    <tr>\n",
       "      <th>96</th>\n",
       "      <td>97</td>\n",
       "    </tr>\n",
       "    <tr>\n",
       "      <th>97</th>\n",
       "      <td>98</td>\n",
       "    </tr>\n",
       "    <tr>\n",
       "      <th>98</th>\n",
       "      <td>99</td>\n",
       "    </tr>\n",
       "    <tr>\n",
       "      <th>99</th>\n",
       "      <td>100</td>\n",
       "    </tr>\n",
       "  </tbody>\n",
       "</table>\n",
       "<p>100 rows × 1 columns</p>\n",
       "</div>"
      ],
      "text/plain": [
       "    num\n",
       "0     1\n",
       "1     2\n",
       "2     3\n",
       "3     4\n",
       "4     5\n",
       "..  ...\n",
       "95   96\n",
       "96   97\n",
       "97   98\n",
       "98   99\n",
       "99  100\n",
       "\n",
       "[100 rows x 1 columns]"
      ]
     },
     "execution_count": 46,
     "metadata": {},
     "output_type": "execute_result"
    }
   ],
   "source": [
    "pd_vector"
   ]
  },
  {
   "cell_type": "markdown",
   "id": "68d2dfb1-9c1f-4116-89c5-05e2171c7018",
   "metadata": {},
   "source": [
    "Y segun los siguientes metodos de numpy"
   ]
  },
  {
   "cell_type": "code",
   "execution_count": 12,
   "id": "81d3dd14-6205-421a-9cf9-031027c6a213",
   "metadata": {},
   "outputs": [
    {
     "data": {
      "text/plain": [
       "833.25"
      ]
     },
     "execution_count": 12,
     "metadata": {},
     "output_type": "execute_result"
    }
   ],
   "source": [
    "np.var( pd_vector[\"num\"] ) ## Calcula la varianza"
   ]
  },
  {
   "cell_type": "code",
   "execution_count": 15,
   "id": "4b17ddd3-044d-4328-9f34-03bde615cc7a",
   "metadata": {},
   "outputs": [
    {
     "data": {
      "text/plain": [
       "28.86607004772212"
      ]
     },
     "execution_count": 15,
     "metadata": {},
     "output_type": "execute_result"
    }
   ],
   "source": [
    "np.std( pd_vector[\"num\"] ) ## Calcula la desviacion estandard"
   ]
  },
  {
   "cell_type": "markdown",
   "id": "b0db84f8-c351-41db-b981-336b6738b19b",
   "metadata": {},
   "source": [
    "## Responda las siguientes ejercicios"
   ]
  },
  {
   "cell_type": "markdown",
   "id": "5d99d524-4a87-4fbf-a2b8-436a6cb4ddcd",
   "metadata": {},
   "source": [
    "1. Grafique el Boxplot del vector \"num\""
   ]
  },
  {
   "cell_type": "code",
   "execution_count": 12,
   "id": "f36238bb-56d3-4bdb-9108-bb652a2c2f9c",
   "metadata": {
    "scrolled": false
   },
   "outputs": [
    {
     "data": {
      "image/png": "[encoded data removed]",
      "text/plain": [
       "<Figure size 432x288 with 1 Axes>"
      ]
     },
     "metadata": {
      "needs_background": "light"
     },
     "output_type": "display_data"
    }
   ],
   "source": [
    "plt.boxplot(pd_vector)\n",
    "plt.title(\"Boxplot\")\n",
    "plt.show()"
   ]
  },
  {
   "cell_type": "markdown",
   "id": "c3011ce8-15f1-4b3b-b7ab-44172bf7c8a2",
   "metadata": {},
   "source": [
    "2. Calcule la varianza y desviacion estandard de cada uno de los quartiles\n",
    "\n",
    "Nota: realice manual la divicion del dataset para obtener cada uno de quartiles, al final obtendra cuatro dataframes"
   ]
  },
  {
   "cell_type": "code",
   "execution_count": 127,
   "id": "8b18a52f-71b7-4760-81c3-7728e69613ce",
   "metadata": {},
   "outputs": [],
   "source": [
    "q = np.quantile(pd_vector,0)\n",
    "q1 = np.quantile(pd_vector,0.25)\n",
    "q2 = np.quantile(pd_vector,0.5)\n",
    "q3 = np.quantile(pd_vector,0.75)\n",
    "q4 = np.quantile(pd_vector,1)\n",
    "\n",
    "qd1 = pd.DataFrame( {\"qd1\" : np.arange(q,q1)})\n",
    "qd2 = pd.DataFrame( {\"qd2\" : np.arange(q1,q2)})\n",
    "qd3 = pd.DataFrame( {\"qd3\" : np.arange(q2,q3)})\n",
    "qd4 = pd.DataFrame( {\"qd4\" : np.arange(q3,q4)})\n"
   ]
  },
  {
   "cell_type": "code",
   "execution_count": 132,
   "id": "a8b40cbb",
   "metadata": {},
   "outputs": [
    {
     "data": {
      "text/plain": [
       "52.0"
      ]
     },
     "execution_count": 132,
     "metadata": {},
     "output_type": "execute_result"
    }
   ],
   "source": [
    "varianzaqd1 = np.var( qd1[\"qd1\"] )\n",
    "varianzaqd2 = np.var( qd2[\"qd2\"] )\n",
    "varianzaqd3 = np.var( qd3[\"qd3\"] )\n",
    "varianzaqd4 = np.var( qd4[\"qd4\"] )\n",
    "varianzaqd2"
   ]
  },
  {
   "cell_type": "code",
   "execution_count": 125,
   "id": "832d31b4",
   "metadata": {},
   "outputs": [
    {
     "data": {
      "text/plain": [
       "7.211102550927978"
      ]
     },
     "execution_count": 125,
     "metadata": {},
     "output_type": "execute_result"
    }
   ],
   "source": [
    "desviacionqd1 = np.std( qd1[\"qd1\"] )\n",
    "desviacionqd2 = np.std( qd2[\"qd2\"] )\n",
    "desviacionqd3 = np.std( qd3[\"qd3\"] )\n",
    "desviacionqd4 = np.std( qd4[\"qd4\"] )"
   ]
  },
  {
   "cell_type": "markdown",
   "id": "b1aac673-aa4f-40c4-8ae2-364247dcaad1",
   "metadata": {},
   "source": [
    "3. Explique la respuesta que obtuvo en el ejercicio dos, recuerde que se puede apoyar del grafico del ejercicio uno para hacer referencias sobre distribucion en caso de que sea necesario."
   ]
  },
  {
   "cell_type": "code",
   "execution_count": null,
   "id": "43df03b0-9a21-44d1-8aba-a337de9ba1a6",
   "metadata": {},
   "outputs": [],
   "source": [
    "#se obtuvo cada quartile, varianza y desviacio cuando se saco la varianza da la misma respuesta en los 4 \n",
    "#quartiles y con la desviacion da la misma respuesta en los 4 quartiles esto nos da como respuesta que \n",
    "#cada quartil tiene la desviacion o varianza de los demas quartiles"
   ]
  }
 ],
 "metadata": {
  "kernelspec": {
   "display_name": "Python 3 (ipykernel)",
   "language": "python",
   "name": "python3"
  },
  "language_info": {
   "codemirror_mode": {
    "name": "ipython",
    "version": 3
   },
   "file_extension": ".py",
   "mimetype": "text/x-python",
   "name": "python",
   "nbconvert_exporter": "python",
   "pygments_lexer": "ipython3",
   "version": "3.9.12"
  }
 },
 "nbformat": 4,
 "nbformat_minor": 5
}
